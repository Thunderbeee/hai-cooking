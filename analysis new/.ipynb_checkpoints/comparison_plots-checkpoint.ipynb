{
 "cells": [
  {
   "cell_type": "code",
   "execution_count": null,
   "id": "b228ffd8",
   "metadata": {},
   "outputs": [],
   "source": [
    "import pandas as pd\n",
    "import seaborn as sns\n",
    "import numpy as np"
   ]
  },
  {
   "cell_type": "code",
   "execution_count": 79,
   "id": "d9a2b18e",
   "metadata": {},
   "outputs": [
    {
     "data": {
      "text/html": [
       "<div>\n",
       "<style scoped>\n",
       "    .dataframe tbody tr th:only-of-type {\n",
       "        vertical-align: middle;\n",
       "    }\n",
       "\n",
       "    .dataframe tbody tr th {\n",
       "        vertical-align: top;\n",
       "    }\n",
       "\n",
       "    .dataframe thead th {\n",
       "        text-align: right;\n",
       "    }\n",
       "</style>\n",
       "<table border=\"1\" class=\"dataframe\">\n",
       "  <thead>\n",
       "    <tr style=\"text-align: right;\">\n",
       "      <th></th>\n",
       "      <th>Unnamed: 1</th>\n",
       "      <th>Unnamed: 2</th>\n",
       "      <th>Unnamed: 3</th>\n",
       "      <th>Unnamed: 4</th>\n",
       "      <th>Unnamed: 5</th>\n",
       "      <th>Unnamed: 6</th>\n",
       "      <th>Unnamed: 7</th>\n",
       "      <th>Unnamed: 8</th>\n",
       "    </tr>\n",
       "  </thead>\n",
       "  <tbody>\n",
       "    <tr>\n",
       "      <th>8</th>\n",
       "      <td>BASELINE</td>\n",
       "      <td>90.8</td>\n",
       "      <td>59.6</td>\n",
       "      <td>24.4</td>\n",
       "      <td>87.9</td>\n",
       "      <td>89.1</td>\n",
       "      <td>71.4</td>\n",
       "      <td>64.7</td>\n",
       "    </tr>\n",
       "    <tr>\n",
       "      <th>17</th>\n",
       "      <td>X_Aircraft_2</td>\n",
       "      <td>95.5</td>\n",
       "      <td>99.5</td>\n",
       "      <td>37.6</td>\n",
       "      <td>92.6</td>\n",
       "      <td>93.2</td>\n",
       "      <td>72.5</td>\n",
       "      <td>75.9</td>\n",
       "    </tr>\n",
       "  </tbody>\n",
       "</table>\n",
       "</div>"
      ],
      "text/plain": [
       "      Unnamed: 1 Unnamed: 2 Unnamed: 3 Unnamed: 4 Unnamed: 5 Unnamed: 6  \\\n",
       "8       BASELINE      90.8        59.6       24.4       87.9       89.1   \n",
       "17  X_Aircraft_2       95.5       99.5       37.6       92.6       93.2   \n",
       "\n",
       "   Unnamed: 7 Unnamed: 8  \n",
       "8        71.4       64.7  \n",
       "17       72.5       75.9  "
      ]
     },
     "execution_count": 79,
     "metadata": {},
     "output_type": "execute_result"
    }
   ],
   "source": [
    "df = pd.read_csv(\"experiment.csv\")\n",
    "df = df.iloc[[8,17], np.arange(1,9)]\n",
    "df"
   ]
  },
  {
   "cell_type": "code",
   "execution_count": 92,
   "id": "8b380a20",
   "metadata": {},
   "outputs": [],
   "source": [
    "types = []\n",
    "for i in df.iloc[:2,0]:\n",
    "    for j in np.arange(7):\n",
    "        types.append(i)"
   ]
  },
  {
   "cell_type": "code",
   "execution_count": 235,
   "id": "79fc2aca",
   "metadata": {},
   "outputs": [
    {
     "data": {
      "text/plain": [
       "['BASELINE',\n",
       " 'BASELINE',\n",
       " 'BASELINE',\n",
       " 'BASELINE',\n",
       " 'BASELINE',\n",
       " 'BASELINE',\n",
       " 'BASELINE',\n",
       " 'CLIP',\n",
       " 'CLIP',\n",
       " 'CLIP',\n",
       " 'CLIP',\n",
       " 'CLIP',\n",
       " 'CLIP',\n",
       " 'CLIP',\n",
       " 'CLIP-Trio',\n",
       " 'CLIP-Trio',\n",
       " 'CLIP-Trio',\n",
       " 'CLIP-Trio',\n",
       " 'CLIP-Trio',\n",
       " 'CLIP-Trio',\n",
       " 'CLIP-Trio']"
      ]
     },
     "execution_count": 235,
     "metadata": {},
     "output_type": "execute_result"
    }
   ],
   "source": [
    "types = [ \"BASELINE\",\n",
    " \"BASELINE\",\n",
    " \"BASELINE\",\n",
    " \"BASELINE\",\n",
    " \"BASELINE\",\n",
    " \"BASELINE\",\n",
    " \"BASELINE\",\n",
    " 'CLIP',\n",
    " 'CLIP',\n",
    " 'CLIP',\n",
    " 'CLIP',\n",
    " 'CLIP',\n",
    " 'CLIP',\n",
    " 'CLIP',\n",
    " 'CLIP-Trio',\n",
    " 'CLIP-Trio',\n",
    " 'CLIP-Trio',\n",
    " 'CLIP-Trio',\n",
    " 'CLIP-Trio',\n",
    " 'CLIP-Trio',\n",
    " 'CLIP-Trio']\n",
    "types"
   ]
  },
  {
   "cell_type": "code",
   "execution_count": 204,
   "id": "3cb13f2a",
   "metadata": {
    "scrolled": true
   },
   "outputs": [
    {
     "data": {
      "text/plain": [
       "['CIFAR-10',\n",
       " 'MNIST',\n",
       " 'Aircraft',\n",
       " 'Food',\n",
       " 'Oxfordpet',\n",
       " 'Flowers',\n",
       " 'StandfordCars',\n",
       " 'CIFAR-10',\n",
       " 'MNIST',\n",
       " 'Aircraft',\n",
       " 'Food',\n",
       " 'Oxfordpet',\n",
       " 'Flowers',\n",
       " 'StandfordCars',\n",
       " 'CIFAR-10',\n",
       " 'MNIST',\n",
       " 'Aircraft',\n",
       " 'Food',\n",
       " 'Oxfordpet',\n",
       " 'Flowers',\n",
       " 'StandfordCars']"
      ]
     },
     "execution_count": 204,
     "metadata": {},
     "output_type": "execute_result"
    }
   ],
   "source": [
    "datasets = [\"CIFAR-10\",\n",
    "\"MNIST\",\n",
    "\"Aircraft\",\n",
    "\"Food\",\n",
    "\"Oxfordpet\",\n",
    "\"Flowers\",\n",
    "\"StandfordCars\"\n",
    "]*3\n",
    "datasets"
   ]
  },
  {
   "cell_type": "code",
   "execution_count": 205,
   "id": "a78d0bb0",
   "metadata": {},
   "outputs": [],
   "source": [
    "results = [ 93.1,58.3,17.2,80.5,88.4,0,57.2, 90.8, 59.6, 24.4, 87.9, 89.1, 71.4, 64.7, 95.5, 99.5, 37.6, 92.6,\n",
    "       93.2, 72.5, 75.9]"
   ]
  },
  {
   "cell_type": "code",
   "execution_count": 206,
   "id": "a93814bc",
   "metadata": {},
   "outputs": [],
   "source": [
    "# for i in [1]:\n",
    "#     results += np.array(df.iloc[i,1:]).astype(float).tolist()"
   ]
  },
  {
   "cell_type": "code",
   "execution_count": 207,
   "id": "a389acfc",
   "metadata": {},
   "outputs": [
    {
     "data": {
      "text/plain": [
       "array([93.1, 58.3, 17.2, 80.5, 88.4,  0. , 57.2, 90.8, 59.6, 24.4, 87.9,\n",
       "       89.1, 71.4, 64.7, 95.5, 99.5, 37.6, 92.6, 93.2, 72.5, 75.9])"
      ]
     },
     "execution_count": 207,
     "metadata": {},
     "output_type": "execute_result"
    }
   ],
   "source": [
    "results = np.array(results)\n",
    "results"
   ]
  },
  {
   "cell_type": "code",
   "execution_count": 208,
   "id": "cf15345f",
   "metadata": {},
   "outputs": [
    {
     "data": {
      "text/plain": [
       "(21, 21, 21)"
      ]
     },
     "execution_count": 208,
     "metadata": {},
     "output_type": "execute_result"
    }
   ],
   "source": [
    "len(types), len(datasets), len(results)"
   ]
  },
  {
   "cell_type": "code",
   "execution_count": 236,
   "id": "ba53c1ba",
   "metadata": {},
   "outputs": [],
   "source": [
    "d = {\n",
    "    \"model\": types,\n",
    "    \"dataset\": datasets,\n",
    "    \"Accuracy\": results\n",
    "    \n",
    "}\n",
    "jm = pd.DataFrame(d)\n",
    "jm = jm.rename(columns={\"dataset\":\"DATASET\", \"model\":\"Model\"})"
   ]
  },
  {
   "cell_type": "code",
   "execution_count": 238,
   "id": "4ea6aa13",
   "metadata": {},
   "outputs": [
    {
     "data": {
      "image/png": "[encoded data removed]",
      "text/plain": [
       "<Figure size 1080x540 with 1 Axes>"
      ]
     },
     "metadata": {},
     "output_type": "display_data"
    }
   ],
   "source": [
    "sns.set_style(\"white\")\n",
    "\n",
    "a = sns.barplot(x = \"DATASET\",\n",
    "            y = \"Accuracy\",\n",
    "            hue = \"Model\",\n",
    "            data = jm,\n",
    "            palette = \"ch:start=.2,rot=-.3\",\n",
    "            alpha=1).set_title(\n",
    "  \"Comparison Between CLIP-Trio (ours) and original CLIP Zero-shot\",\n",
    "    fontdict= { 'fontsize': 15})\n",
    "\n",
    "# .set(title=\"Comparison Between CLIP-Trio (ours), CLIP Zeroshot, and CLIP WiSE-FT\"\n",
    "#                          ,fontdict={'fontsize' : 30})\n",
    "\n",
    "sns.set(rc={'figure.figsize':(15,7.5)})\n"
   ]
  },
  {
   "cell_type": "code",
   "execution_count": null,
   "id": "67e4770a",
   "metadata": {},
   "outputs": [],
   "source": []
  }
 ],
 "metadata": {
  "kernelspec": {
   "display_name": "Python 3 (ipykernel)",
   "language": "python",
   "name": "python3"
  },
  "language_info": {
   "codemirror_mode": {
    "name": "ipython",
    "version": 3
   },
   "file_extension": ".py",
   "mimetype": "text/x-python",
   "name": "python",
   "nbconvert_exporter": "python",
   "pygments_lexer": "ipython3",
   "version": "3.8.8"
  }
 },
 "nbformat": 4,
 "nbformat_minor": 5
}
