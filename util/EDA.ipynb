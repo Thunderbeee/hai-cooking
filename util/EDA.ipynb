{
 "cells": [
  {
   "cell_type": "code",
   "execution_count": 76,
   "id": "f25b5756",
   "metadata": {},
   "outputs": [],
   "source": [
    "import matplotlib.pyplot as plt\n",
    "import pandas as pd\n",
    "import numpy as np"
   ]
  },
  {
   "cell_type": "code",
   "execution_count": 85,
   "id": "dba8afcf",
   "metadata": {
    "scrolled": true
   },
   "outputs": [
    {
     "data": {
      "text/plain": [
       "'/Users/mingyuanma/Desktop/HAI/util'"
      ]
     },
     "execution_count": 85,
     "metadata": {},
     "output_type": "execute_result"
    }
   ],
   "source": [
    "pwd"
   ]
  },
  {
   "cell_type": "code",
   "execution_count": 94,
   "id": "4e6b88dc",
   "metadata": {
    "scrolled": true
   },
   "outputs": [
    {
     "data": {
      "text/plain": [
       "array(['Keep everyone busy at all time / Do not leave anyone idle',\n",
       "       'Server and Sous-Chef should plate two times each',\n",
       "       \"Server should do all plating / Sous-Chef shouldn't plate\",\n",
       "       'Server should chop once / Sous-Chef should chop three times',\n",
       "       'Server should cook once / Sous-Chef should cook three times',\n",
       "       'Server should plate once / Sous-Chef should plate three times',\n",
       "       'Server should cook three times / Sous-Chef should cook once',\n",
       "       \"Server shouldn't cook / Sous-Chef should do all cooking\",\n",
       "       'Server and Sous-Chef should chop two times each',\n",
       "       'Server and Sous-Chef should cook two times each',\n",
       "       'Server should chop only in the first tick',\n",
       "       'Server should plate three times / Sous-Chef should plate once',\n",
       "       'Server should chop three times / Sous-Chef should chop once',\n",
       "       'Sous-Chef should chop twice before starting to cook'],\n",
       "      dtype=object)"
      ]
     },
     "execution_count": 94,
     "metadata": {},
     "output_type": "execute_result"
    }
   ],
   "source": [
    "# label = pd.read_csv(\"data/phase1/label_before.csv\")\n",
    "# label\n",
    "phase2 = pd.read_csv(\"../data/phase2/phase2-disrupted_qualitative.csv\").dropna()\n",
    "phase2 = phase2[phase2[\"treatment\"] ==  'control']\n",
    "phase2[\"best_tip\"].unique()"
   ]
  },
  {
   "cell_type": "code",
   "execution_count": 95,
   "id": "4a6135d8",
   "metadata": {
    "scrolled": true
   },
   "outputs": [],
   "source": [
    "mapping = {\n",
    "    \"best_tip\":{\n",
    "        \"Server shouldn't cook / Sous-Chef should do all cooking\":0,\n",
    "       'Server should chop only in the first tick':1,\n",
    "       'Keep everyone busy at all time / Do not leave anyone idle':2,\n",
    "       'Server should chop once / Sous-Chef should chop three times':3,\n",
    "       'Server and Sous-Chef should cook two times each':4,\n",
    "       'Server should cook once / Sous-Chef should cook three times':5,\n",
    "       'Server should plate three times / Sous-Chef should plate once':6,\n",
    "       'Server and Sous-Chef should plate two times each':7,\n",
    "       'Sous-Chef should chop twice before starting to cook':8,\n",
    "       \"Server should do all plating / Sous-Chef shouldn't plate\":9,\n",
    "       'Server should cook three times / Sous-Chef should cook once':10,\n",
    "       'Server should chop three times / Sous-Chef should chop once':11,\n",
    "       'Server should plate once / Sous-Chef should plate three times':12,\n",
    "       'Server and Sous-Chef should chop two times each':13\n",
    "    }\n",
    "}"
   ]
  },
  {
   "cell_type": "code",
   "execution_count": 96,
   "id": "deff5b35",
   "metadata": {},
   "outputs": [],
   "source": [
    "# 0 Server never cooks (0, )\n",
    "# 1 Server cooks 1(5)\n",
    "# # 2 Server cooks 2 ← Optimal\n",
    "# # 3 Server cooks 3 (rarely) ← definitely need to split\n",
    "# 2 Any other tips that are part of the optimal policy (1, 2, 3, 4, 7)\n",
    "# 3 Any other tips that are actually wrong (6, 8, 9, 10, 11, 12, 13)\n",
    "\n",
    "# Sous chef + Server each plates 2 times\n",
    "# Sous chef + Server each cooks 2 times ←- optimal = same as Server cook 2\n",
    "# Sous schef chops 3 times / Server chops 1\n",
    "# Keep every worker busy\n"
   ]
  },
  {
   "cell_type": "code",
   "execution_count": 97,
   "id": "1108acd0",
   "metadata": {},
   "outputs": [],
   "source": [
    "mapping2 = {\n",
    "    \"best_tip\":{\n",
    "        0:0,\n",
    "        1:2,\n",
    "        2:2,\n",
    "        3:2,\n",
    "        4:2,\n",
    "        5:1, \n",
    "        6:3,\n",
    "        7:2,\n",
    "        8:3,\n",
    "        9:3,\n",
    "        10:3,\n",
    "        11:3,\n",
    "        12:3,\n",
    "        13:3  \n",
    "    }\n",
    "    \n",
    "}"
   ]
  },
  {
   "cell_type": "code",
   "execution_count": 98,
   "id": "b2fd0bae",
   "metadata": {
    "scrolled": false
   },
   "outputs": [
    {
     "data": {
      "text/html": [
       "<div>\n",
       "<style scoped>\n",
       "    .dataframe tbody tr th:only-of-type {\n",
       "        vertical-align: middle;\n",
       "    }\n",
       "\n",
       "    .dataframe tbody tr th {\n",
       "        vertical-align: top;\n",
       "    }\n",
       "\n",
       "    .dataframe thead th {\n",
       "        text-align: right;\n",
       "    }\n",
       "</style>\n",
       "<table border=\"1\" class=\"dataframe\">\n",
       "  <thead>\n",
       "    <tr style=\"text-align: right;\">\n",
       "      <th></th>\n",
       "      <th>ResponseId</th>\n",
       "      <th>best_tip</th>\n",
       "    </tr>\n",
       "  </thead>\n",
       "  <tbody>\n",
       "    <tr>\n",
       "      <th>271</th>\n",
       "      <td>R_0DNcJqALC3UG9Db</td>\n",
       "      <td>2</td>\n",
       "    </tr>\n",
       "    <tr>\n",
       "      <th>272</th>\n",
       "      <td>R_0HbfbDtnkUIRbvH</td>\n",
       "      <td>2</td>\n",
       "    </tr>\n",
       "    <tr>\n",
       "      <th>273</th>\n",
       "      <td>R_0cVkkjfJMy8V6P7</td>\n",
       "      <td>3</td>\n",
       "    </tr>\n",
       "    <tr>\n",
       "      <th>274</th>\n",
       "      <td>R_10OZ3Fgz4TJo8Vx</td>\n",
       "      <td>2</td>\n",
       "    </tr>\n",
       "    <tr>\n",
       "      <th>275</th>\n",
       "      <td>R_11WSDnMOeKXakQH</td>\n",
       "      <td>2</td>\n",
       "    </tr>\n",
       "    <tr>\n",
       "      <th>...</th>\n",
       "      <td>...</td>\n",
       "      <td>...</td>\n",
       "    </tr>\n",
       "    <tr>\n",
       "      <th>510</th>\n",
       "      <td>R_xlnJEPOkxxHspJT</td>\n",
       "      <td>2</td>\n",
       "    </tr>\n",
       "    <tr>\n",
       "      <th>511</th>\n",
       "      <td>R_yNJaIImQ7EY3J5v</td>\n",
       "      <td>1</td>\n",
       "    </tr>\n",
       "    <tr>\n",
       "      <th>512</th>\n",
       "      <td>R_yqY6xKo4dUHco6d</td>\n",
       "      <td>1</td>\n",
       "    </tr>\n",
       "    <tr>\n",
       "      <th>513</th>\n",
       "      <td>R_yrKr3inrXDL5Lvb</td>\n",
       "      <td>0</td>\n",
       "    </tr>\n",
       "    <tr>\n",
       "      <th>514</th>\n",
       "      <td>R_z6DSJfELElPHABP</td>\n",
       "      <td>3</td>\n",
       "    </tr>\n",
       "  </tbody>\n",
       "</table>\n",
       "<p>243 rows × 2 columns</p>\n",
       "</div>"
      ],
      "text/plain": [
       "            ResponseId  best_tip\n",
       "271  R_0DNcJqALC3UG9Db         2\n",
       "272  R_0HbfbDtnkUIRbvH         2\n",
       "273  R_0cVkkjfJMy8V6P7         3\n",
       "274  R_10OZ3Fgz4TJo8Vx         2\n",
       "275  R_11WSDnMOeKXakQH         2\n",
       "..                 ...       ...\n",
       "510  R_xlnJEPOkxxHspJT         2\n",
       "511  R_yNJaIImQ7EY3J5v         1\n",
       "512  R_yqY6xKo4dUHco6d         1\n",
       "513  R_yrKr3inrXDL5Lvb         0\n",
       "514  R_z6DSJfELElPHABP         3\n",
       "\n",
       "[243 rows x 2 columns]"
      ]
     },
     "execution_count": 98,
     "metadata": {},
     "output_type": "execute_result"
    }
   ],
   "source": [
    "phase2 = phase2.replace(mapping).replace(mapping2)\n",
    "phase2 = phase2[[\"ResponseId\", \"best_tip\"]]\n",
    "phase2"
   ]
  },
  {
   "cell_type": "code",
   "execution_count": 99,
   "id": "8fef8cb2",
   "metadata": {
    "scrolled": true
   },
   "outputs": [
    {
     "data": {
      "text/plain": [
       "(array([50., 58., 66., 69.,  0.]),\n",
       " array([0, 1, 2, 3, 4, 5]),\n",
       " <BarContainer object of 5 artists>)"
      ]
     },
     "execution_count": 99,
     "metadata": {},
     "output_type": "execute_result"
    },
    {
     "data": {
      "image/png": "[encoded data removed]",
      "text/plain": [
       "<Figure size 432x288 with 1 Axes>"
      ]
     },
     "metadata": {
      "needs_background": "light"
     },
     "output_type": "display_data"
    }
   ],
   "source": [
    "plt.hist(phase2[\"best_tip\"],  bins=np.arange(6))"
   ]
  },
  {
   "cell_type": "code",
   "execution_count": 100,
   "id": "597a82ca",
   "metadata": {},
   "outputs": [],
   "source": [
    "phase2.to_csv(\"phase2_control_label.csv\", index=False)"
   ]
  },
  {
   "cell_type": "code",
   "execution_count": null,
   "id": "de75a8b2",
   "metadata": {},
   "outputs": [],
   "source": []
  }
 ],
 "metadata": {
  "kernelspec": {
   "display_name": "Python 3.8.8 ('base')",
   "language": "python",
   "name": "python3"
  },
  "language_info": {
   "codemirror_mode": {
    "name": "ipython",
    "version": 3
   },
   "file_extension": ".py",
   "mimetype": "text/x-python",
   "name": "python",
   "nbconvert_exporter": "python",
   "pygments_lexer": "ipython3",
   "version": "3.8.8"
  },
  "vscode": {
   "interpreter": {
    "hash": "3f2099620ee754a799ea2efde844907f572fbdcd9ece8dce41bdce43c5c037bd"
   }
  }
 },
 "nbformat": 4,
 "nbformat_minor": 5
}
